{
 "cells": [
  {
   "cell_type": "markdown",
   "metadata": {},
   "source": [
    "# Manual Principal para el Análisis de Tweets\n",
    "\n",
    "Este manual proporciona instrucciones sobre cómo ejecutar los scripts para analizar datos de tweets de la base de datos `farmers-protest-tweets-2021-2-4.json`. "
   ]
  },
  {
   "cell_type": "markdown",
   "metadata": {},
   "source": [
    "## Requisitos Previos\n",
    "\n",
    "Antes de ejecutar los códigos, asegúrate de tener Python 3 instalado en tu sistema. Puedes descargarlo desde [python.org](https://www.python.org/downloads/).\n"
   ]
  },
  {
   "cell_type": "markdown",
   "metadata": {},
   "source": [
    "## Instalación de Librerías\n",
    "\n",
    "Asegúrate de instalar las siguientes librerías usando `pip`. Abre la terminal y ejecuta los siguientes comandos:\n",
    "\n",
    "```bash\n",
    "pip install memory-profiler\n",
    "pip install emoji\n",
    "```\n"
   ]
  },
  {
   "cell_type": "markdown",
   "metadata": {},
   "source": [
    "## Estructura de Archivos\n",
    "\n",
    "Coloca el archivo `farmers-protest-tweets-2021-2-4.json` en la carpeta `src` de tu proyecto.\n",
    "\n",
    "```\n",
    "/tu_proyecto\n",
    "│\n",
    "├── src\n",
    "│   ├── farmers-protest-tweets-2021-2-4.json\n",
    "│   ├── q1_memory.py\n",
    "│   ├── q1_time.py\n",
    "│   ├── q2_memory.py\n",
    "│   ├── q2_time.py\n",
    "│   ├── q3_memory.py\n",
    "│   └── q3_time.py\n",
    "```\n"
   ]
  },
  {
   "cell_type": "markdown",
   "metadata": {},
   "source": [
    "## Códigos y Funcionalidades\n",
    "\n",
    "A continuación, se describen brevemente las funcionalidades de cada script:\n"
   ]
  },
  {
   "cell_type": "markdown",
   "metadata": {},
   "source": [
    "### 1. **q1_time.py**\n",
    "\n",
    "Este script cuenta el número de tweets por fecha y determina qué usuario tiene más tweets en cada una de las 10 fechas con más actividad. También mide el tiempo de ejecución del análisis.\n",
    "\n",
    "```python\n",
    "# Ejemplo de uso\n",
    "file_path = 'farmers-protest-tweets-2021-2-4.json'\n",
    "top_dates_users, exec_time = q1_time(file_path)\n",
    "```\n"
   ]
  },
  {
   "cell_type": "markdown",
   "metadata": {},
   "source": [
    "### 2. **q1_memory.py**\n",
    "\n",
    "Calcula el uso máximo de memoria durante la ejecución del análisis que cuenta los tweets por fecha y usuario.\n",
    "\n",
    "```python\n",
    "# Ejemplo de uso\n",
    "memory_used = q1_memory(file_path)\n",
    "```\n"
   ]
  },
  {
   "cell_type": "markdown",
   "metadata": {},
   "source": [
    "### 3. **q2_time.py**\n",
    "\n",
    "Cuenta los emojis utilizados en los tweets y mide el tiempo de ejecución.\n",
    "\n",
    "```python\n",
    "# Ejemplo de uso\n",
    "execution_time = q2_time(file_path)\n",
    "```\n"
   ]
  },
  {
   "cell_type": "markdown",
   "metadata": {},
   "source": [
    "### 4. **q2_memory.py**\n",
    "\n",
    "Calcula el uso máximo de memoria mientras se cuenta la frecuencia de los emojis en los tweets.\n",
    "\n",
    "```python\n",
    "# Ejemplo de uso\n",
    "memory_used = q2_memory(file_path)\n",
    "```\n"
   ]
  },
  {
   "cell_type": "markdown",
   "metadata": {},
   "source": [
    "### 5. **q3_time.py**\n",
    "\n",
    "Cuenta las menciones de usuarios en los tweets y mide el tiempo de ejecución.\n",
    "\n",
    "```python\n",
    "# Ejemplo de uso\n",
    "execution_time = q3_time(file_path)\n",
    "```\n"
   ]
  },
  {
   "cell_type": "markdown",
   "metadata": {},
   "source": [
    "### 6. **q3_memory.py**\n",
    "\n",
    "Calcula el uso máximo de memoria al contar las menciones de usuarios en los tweets.\n",
    "\n",
    "```python\n",
    "# Ejemplo de uso\n",
    "memory_used = q3_memory(file_path)\n",
    "```\n"
   ]
  },
  {
   "cell_type": "markdown",
   "metadata": {},
   "source": [
    "## Ejecución de los Scripts\n",
    "\n",
    "Para ejecutar cualquiera de los scripts, utiliza el siguiente comando en la terminal desde la carpeta `src`:\n",
    "\n",
    "```bash\n",
    "python3 nombre_del_script.py\n",
    "```\n",
    "\n",
    "Reemplaza `nombre_del_script.py` con el nombre del script que deseas ejecutar (por ejemplo, `q1_time.py`).\n"
   ]
  },
  {
   "cell_type": "markdown",
   "metadata": {},
   "source": [
    "## Notas Finales\n",
    "\n",
    "- Asegúrate de que el archivo JSON esté correctamente formateado y ubicado en la carpeta `src`.\n",
    "- Puedes modificar los scripts según tus necesidades, pero asegúrate de mantener la estructura y las importaciones necesarias.\n",
    "\n",
    "¡Buena suerte con tu análisis de tweets!"
   ]
  },
  {
   "cell_type": "markdown",
   "id": "330638fa",
   "metadata": {},
   "source": [
    "\n",
    "### Resultados de Ejercicios\n",
    "\n",
    "#### **Ejercicio 1 - Memoria**\n",
    "Top 10 fechas con más tweets y los usuarios correspondientes:\n",
    "- 2021-02-12 (12347 tweets): RanbirS00614606 (176 tweets)\n",
    "- 2021-02-13 (11296 tweets): MaanDee08215437 (178 tweets)\n",
    "- 2021-02-17 (11087 tweets): RaaJVinderkaur (185 tweets)\n",
    "- 2021-02-16 (10443 tweets): jot__b (133 tweets)\n",
    "- 2021-02-14 (10249 tweets): rebelpacifist (119 tweets)\n",
    "- 2021-02-18 (9625 tweets): neetuanjle_nitu (195 tweets)\n",
    "- 2021-02-15 (9197 tweets): jot__b (134 tweets)\n",
    "- 2021-02-20 (8502 tweets): MangalJ23056160 (108 tweets)\n",
    "- 2021-02-23 (8417 tweets): Surrypuria (135 tweets)\n",
    "- 2021-02-19 (8204 tweets): Preetm91 (267 tweets)\n",
    "Memoria máxima utilizada: **43.109375 MiB**\n",
    "\n",
    "#### **Ejercicio 1 - Tiempo**\n",
    "Top 10 fechas con más tweets y los usuarios correspondientes:\n",
    "- 2021-02-12 (12347 tweets): RanbirS00614606 (176 tweets)\n",
    "- 2021-02-13 (11296 tweets): MaanDee08215437 (178 tweets)\n",
    "- 2021-02-17 (11087 tweets): RaaJVinderkaur (185 tweets)\n",
    "- 2021-02-16 (10443 tweets): jot__b (133 tweets)\n",
    "- 2021-02-14 (10249 tweets): rebelpacifist (119 tweets)\n",
    "- 2021-02-18 (9625 tweets): neetuanjle_nitu (195 tweets)\n",
    "- 2021-02-15 (9197 tweets): jot__b (134 tweets)\n",
    "- 2021-02-20 (8502 tweets): MangalJ23056160 (108 tweets)\n",
    "- 2021-02-23 (8417 tweets): Surrypuria (135 tweets)\n",
    "- 2021-02-19 (8204 tweets): Preetm91 (267 tweets)\n",
    "Tiempo de ejecución: **2.6902 segundos**\n",
    "\n",
    "#### **Ejercicio 2 - Memoria**\n",
    "Top 10 emojis más usados:\n",
    "- 🙏: 7286\n",
    "- 😂: 3072\n",
    "- 🚜: 2972\n",
    "- ✊: 2411\n",
    "- 🌾: 2363\n",
    "- 🏻: 2080\n",
    "- ❤: 1779\n",
    "- 🤣: 1668\n",
    "- 🏽: 1218\n",
    "- 👇: 1108\n",
    "Memoria máxima utilizada: **23.52 MiB**\n",
    "\n",
    "#### **Ejercicio 2 - Tiempo**\n",
    "Top 10 emojis más usados:\n",
    "- 🙏: 7286\n",
    "- 😂: 3072\n",
    "- 🚜: 2972\n",
    "- ✊: 2411\n",
    "- 🌾: 2363\n",
    "- 🏻: 2080\n",
    "- ❤: 1779\n",
    "- 🤣: 1668\n",
    "- 🏽: 1218\n",
    "- 👇: 1108\n",
    "Tiempo de ejecución: **4.0050 segundos**\n",
    "\n",
    "#### **Ejercicio 3 - Memoria**\n",
    "Top 10 usuarios más mencionados:\n",
    "- narendramodi: 2261\n",
    "- Kisanektamorcha: 1836\n",
    "- RakeshTikaitBKU: 1639\n",
    "- PMOIndia: 1422\n",
    "- RahulGandhi: 1125\n",
    "- GretaThunberg: 1046\n",
    "- RaviSinghKA: 1015\n",
    "- rihanna: 972\n",
    "- UNHumanRights: 962\n",
    "- meenaharris: 925\n",
    "Memoria máxima utilizada: **22.52 MiB**\n",
    "\n",
    "#### **Ejercicio 3 - Tiempo**\n",
    "Top 10 usuarios más mencionados:\n",
    "- narendramodi: 2261\n",
    "- Kisanektamorcha: 1836\n",
    "- RakeshTikaitBKU: 1639\n",
    "- PMOIndia: 1422\n",
    "- RahulGandhi: 1125\n",
    "- GretaThunberg: 1046\n",
    "- RaviSinghKA: 1015\n",
    "- rihanna: 972\n",
    "- UNHumanRights: 962\n",
    "- meenaharris: 925\n",
    "Tiempo de ejecución: **2.7340 segundos**\n",
    "\n",
    "> **Nota:** El tiempo y memoria utilizados dependen del procesador y del entorno de ejecución.\n"
   ]
  }
 ],
 "metadata": {
  "kernelspec": {
   "display_name": "Python 3",
   "language": "python",
   "name": "python3"
  },
  "language_info": {
   "codemirror_mode": {
    "name": "ipython",
    "version": 3
   },
   "file_extension": ".py",
   "mimetype": "text/x-python",
   "name": "python",
   "nbconvert_exporter": "python",
   "pygments_lexer": "ipython3",
   "version": "3.8.5"
  }
 },
 "nbformat": 4,
 "nbformat_minor": 4
}
